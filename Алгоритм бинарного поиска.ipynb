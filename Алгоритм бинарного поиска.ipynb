{
 "cells": [
  {
   "cell_type": "code",
   "execution_count": 1,
   "metadata": {},
   "outputs": [],
   "source": [
    "import numpy as np\n"
   ]
  },
  {
   "cell_type": "code",
   "execution_count": null,
   "metadata": {},
   "outputs": [],
   "source": [
    "a = np.sort([np.random.randint(0, 100) for i in range(128*2)])\n",
    "a"
   ]
  },
  {
   "cell_type": "code",
   "execution_count": 19,
   "metadata": {},
   "outputs": [],
   "source": [
    "x= 40"
   ]
  },
  {
   "cell_type": "code",
   "execution_count": null,
   "metadata": {},
   "outputs": [
    {
     "name": "stdout",
     "output_type": "stream",
     "text": [
      "112\n"
     ]
    },
    {
     "data": {
      "text/plain": [
       "8"
      ]
     },
     "execution_count": 20,
     "metadata": {},
     "output_type": "execute_result"
    }
   ],
   "source": [
    "\n",
    "left, right = 0, len(a) - 1\n",
    "cnt = 0\n",
    "while left <= right:\n",
    "    cnt +=1\n",
    "    mid = (left+right) // 2\n",
    "    if a[mid] == x:\n",
    "        print(mid) \n",
    "        break        \n",
    "    elif a[mid] < x:\n",
    "        left = mid +1\n",
    "    else:\n",
    "        right = mid - 1\n",
    "cnt "
   ]
  },
  {
   "cell_type": "code",
   "execution_count": null,
   "metadata": {},
   "outputs": [],
   "source": [
    "def binary_search(list, item): # В переменных low high хранятся границы\n",
    "    low = 0                    # той части списка, в которой выполняется поиск\n",
    "    high = len(list) - 1\n",
    "\n",
    "    while low <= high:          # Пока эта часть не сократиться до одного элемента...\n",
    "        mid = (low + high) // 2 # ...проверяем средний элемент\n",
    "        guess = list[mid]\n",
    "        if guess == item:       # Значение найдено\n",
    "            return mid\n",
    "        elif guess > item:      # много\n",
    "            high = mid -1\n",
    "        else:                   # Мало\n",
    "            low = mid + 1\n",
    "    return None                 # Значение не существует\n",
    "\n",
    "my_list = [1, 3, 5, 7, 9]       # массив для тестирования функции\n",
    "\n",
    "print(binary_search(my_list, 3)) # 1 (нумерация элементов начинается с 0)\n",
    "print(binary_search(my_list, -1)) # None (такого элемента нет в нашем списке)"
   ]
  }
 ],
 "metadata": {
  "kernelspec": {
   "display_name": "Python 3",
   "language": "python",
   "name": "python3"
  },
  "language_info": {
   "codemirror_mode": {
    "name": "ipython",
    "version": 3
   },
   "file_extension": ".py",
   "mimetype": "text/x-python",
   "name": "python",
   "nbconvert_exporter": "python",
   "pygments_lexer": "ipython3",
   "version": "3.11.4"
  }
 },
 "nbformat": 4,
 "nbformat_minor": 2
}
