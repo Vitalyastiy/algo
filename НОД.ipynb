{
 "cells": [
  {
   "cell_type": "code",
   "execution_count": null,
   "metadata": {},
   "outputs": [],
   "source": [
    "a, b = 100, 22\n",
    "while b != 0:\n",
    "    #a,b = b, a% b\n",
    "    c = a%b\n",
    "    a=b\n",
    "    b=c\n",
    "print(a)\n",
    " "
   ]
  },
  {
   "cell_type": "code",
   "execution_count": null,
   "metadata": {},
   "outputs": [],
   "source": [
    "while a!=b:\n",
    "    if a > b:\n",
    "        a = a- b\n",
    "    else:\n",
    "        b = b-a\n",
    "    print(a)"
   ]
  },
  {
   "cell_type": "code",
   "execution_count": 99,
   "metadata": {},
   "outputs": [
    {
     "name": "stdout",
     "output_type": "stream",
     "text": [
      "[18, 6, 6, 2, 10, 1, 3]\n"
     ]
    }
   ],
   "source": [
    "head = [18,6,10,3]\n",
    "new = []\n",
    "for i in range(len(head)-1):\n",
    "    a, b = head[i],head[i+1]\n",
    "    new.append(a) \n",
    "    while b!=0:\n",
    "        c = a%b\n",
    "        a=b\n",
    "        b=c\n",
    "    new.append(a)\n",
    "new.append(head[i + 1])\n",
    "print(new)"
   ]
  },
  {
   "cell_type": "code",
   "execution_count": null,
   "metadata": {},
   "outputs": [],
   "source": [
    "def gcd(a, b):\n",
    "    while b != 0:\n",
    "        a, b = b, a % b\n",
    "    return a\n",
    "\n",
    "head = [18, 6, 10, 3]\n",
    "new = []\n",
    "\n",
    "for i in range(len(head) - 1):\n",
    "    a = head[i]\n",
    "    b = head[i + 1]\n",
    "    new.append(a)  # Добавляем текущее значение\n",
    "    new.append(gcd(a, b))  # Вычисляем НОД и добавляем его\n",
    "# Добавляем последнее значение\n",
    "new.append(head[-1])  \n",
    "\n",
    "print(new)\n"
   ]
  }
 ],
 "metadata": {
  "kernelspec": {
   "display_name": "Python 3",
   "language": "python",
   "name": "python3"
  },
  "language_info": {
   "codemirror_mode": {
    "name": "ipython",
    "version": 3
   },
   "file_extension": ".py",
   "mimetype": "text/x-python",
   "name": "python",
   "nbconvert_exporter": "python",
   "pygments_lexer": "ipython3",
   "version": "3.11.4"
  }
 },
 "nbformat": 4,
 "nbformat_minor": 2
}
